{
 "cells": [
  {
   "cell_type": "code",
   "execution_count": 11,
   "id": "8bb5ea26",
   "metadata": {},
   "outputs": [
    {
     "name": "stdout",
     "output_type": "stream",
     "text": [
      "73.4\n"
     ]
    }
   ],
   "source": [
    "#1. Realice un programa que inserte la temperatura en grados celcius y la salida sea la temperatura en grados Kelvin.\n",
    "#Favor conseguir la siguiente salida, p.e. si la entrada es 25°C.\n",
    "\n",
    "#temperatura entrada 23°C\n",
    "\n",
    "print((23*9/5) + 32)\n"
   ]
  },
  {
   "cell_type": "code",
   "execution_count": 22,
   "id": "31ca28ad",
   "metadata": {},
   "outputs": [
    {
     "name": "stdout",
     "output_type": "stream",
     "text": [
      "1.797\n"
     ]
    }
   ],
   "source": [
    "#2. Las estaturas de las siguientes 10 personas son las siguientes dadas en metros en el sistema internacional.\n",
    "\n",
    "print ((1.5+2.2+1.56+1.78+1.82+1.90+1.66+1.91+1.76+1.88)/10)"
   ]
  },
  {
   "cell_type": "code",
   "execution_count": 77,
   "id": "dbdce618",
   "metadata": {},
   "outputs": [
    {
     "name": "stdout",
     "output_type": "stream",
     "text": [
      "3.594\n"
     ]
    }
   ],
   "source": [
    "\n",
    "print(1.797*2)\n"
   ]
  },
  {
   "cell_type": "code",
   "execution_count": 87,
   "id": "ab27a777",
   "metadata": {},
   "outputs": [
    {
     "name": "stdout",
     "output_type": "stream",
     "text": [
      "-0.5939999999999999\n"
     ]
    }
   ],
   "source": [
    "print ((1.5-1.797)*2)"
   ]
  },
  {
   "cell_type": "code",
   "execution_count": 84,
   "id": "bf75d354",
   "metadata": {},
   "outputs": [
    {
     "name": "stdout",
     "output_type": "stream",
     "text": [
      "-2.094\n"
     ]
    }
   ],
   "source": [
    "print (1.5-(1.797*2))"
   ]
  },
  {
   "cell_type": "code",
   "execution_count": null,
   "id": "21a03b24",
   "metadata": {},
   "outputs": [],
   "source": []
  }
 ],
 "metadata": {
  "kernelspec": {
   "display_name": "Python 3 (ipykernel)",
   "language": "python",
   "name": "python3"
  },
  "language_info": {
   "codemirror_mode": {
    "name": "ipython",
    "version": 3
   },
   "file_extension": ".py",
   "mimetype": "text/x-python",
   "name": "python",
   "nbconvert_exporter": "python",
   "pygments_lexer": "ipython3",
   "version": "3.9.12"
  }
 },
 "nbformat": 4,
 "nbformat_minor": 5
}
